{
 "metadata": {
  "language_info": {
   "codemirror_mode": {
    "name": "ipython",
    "version": 3
   },
   "file_extension": ".py",
   "mimetype": "text/x-python",
   "name": "python",
   "nbconvert_exporter": "python",
   "pygments_lexer": "ipython3",
   "version": "3.8.3-final"
  },
  "orig_nbformat": 2,
  "kernelspec": {
   "name": "python_defaultSpec_1600813719109",
   "display_name": "Python 3.8.3 64-bit ('base': conda)"
  }
 },
 "nbformat": 4,
 "nbformat_minor": 2,
 "cells": [
  {
   "cell_type": "code",
   "execution_count": 4,
   "metadata": {
    "tags": []
   },
   "outputs": [
    {
     "output_type": "stream",
     "name": "stdout",
     "text": "1\n2\n3\n4\n5\n6\n7\n8\n9\n10\n11\n12\n13\n14\n15\n16\n17\n18\n19\n20\n21\n22\n23\n24\n25\n26\n27\n28\n29\n30\n31\n32\n33\n34\n35\n36\n37\n38\n39\n40\n41\n42\n43\n44\n45\n46\n47\n48\n49\n50\n51\n52\n53\n54\n55\n56\n57\n58\n59\n60\n61\n62\n63\n64\n65\n66\n67\n68\n69\n70\n71\n72\n73\n74\n75\n76\n77\n78\n79\n80\n81\n82\n83\n84\n85\n86\n87\n88\n89\n90\n91\n92\n93\n94\n95\n96\n97\n98\n99\n100\n"
    }
   ],
   "source": [
    "# write 1-100 numbers function\n",
    "my_dict = []\n",
    "\n",
    "i=0\n",
    "for x in range(100):\n",
    "    i=i+1\n",
    "    print(i)\n",
    "    \n",
    "\n",
    "    if i >= (3*i):\n",
    "        \n",
    "        My_Var = \"Fizz\"\n",
    "        Print(My_Var)"
   ]
  },
  {
   "cell_type": "code",
   "execution_count": 35,
   "metadata": {
    "tags": []
   },
   "outputs": [
    {
     "output_type": "stream",
     "name": "stdout",
     "text": "1\n4\nit is a tie\n1\n6\nrock wins\n1\n4\nit is a tie\n"
    }
   ],
   "source": [
    "import random\n",
    "\n",
    "# step 1: create 3 variables: Rock, paper and scissors\n",
    "#choice_one_1 = \"rock\" ==> 1\n",
    "#choice-two_1 = \"paper\" ==> 2\n",
    "#choice_three_1 = \"scissors\" ==>3\n",
    "#choice_one_2 = \"rock\"   ==> 4\n",
    "#choice-two_2 = \"paper\"  ==> 5\n",
    "#choice_three_2 = \"scissors\" ==> 6\n",
    "\n",
    "# step 2: Define the winners\n",
    "# if hand_1 =  1 and 6 then\n",
    "# print(\"rock wins\") \n",
    "player1hand =0\n",
    "player2hand = 0\n",
    "hand = [1,2,3]\n",
    "hand2 = [4,5,6]\n",
    "\n",
    "for player1 in hand:\n",
    "    player1hand = random.randrange(1,4)\n",
    "    print(player1hand)\n",
    "\n",
    "    player2hand = random.randrange(4,7)\n",
    "    print(player2hand)\n",
    "    \n",
    "    if ((player1hand ==2) and (player2hand == 6)) or ((player1hand ==6) and (player2hand == 2)) :\n",
    "        print(\"scissors wins\")\n",
    "    \n",
    "    if ((player1hand ==2) and (player2hand == 4)) or ((player1hand ==4) and (player2hand == 2)) :\n",
    "        print(\"paper wins\")\n",
    "\n",
    "    if ((player1hand ==2) and (player2hand == 5)) or ((player1hand ==5) and (player2hand == 2)) :\n",
    "        print(\"it is a tie\")\n",
    "\n",
    "    if ((player1hand ==1) and (player2hand == 4)) or ((player1hand ==4) and (player2hand == 1)) :\n",
    "        print(\"it is a tie\")\n",
    "\n",
    "    if ((player1hand ==1) and (player2hand == 5)) or ((player1hand ==5) and (player2hand == 1)) :\n",
    "        print(\"paper wins\")\n",
    "    \n",
    "    if ((player1hand ==1) and (player2hand == 6)) or ((player1hand ==6) and (player2hand == 1)) :\n",
    "        print(\"rock wins\")\n",
    "\n",
    "    if ((player1hand ==3) and (player2hand == 4)) or ((player1hand ==4) and (player2hand == 3)) :\n",
    "        print(\"rock wins\")\n",
    "    \n",
    "    if ((player1hand ==3) and (player2hand == 5)) or ((player1hand ==5) and (player2hand == 3)) :\n",
    "        print(\"scissors wins\")\n",
    "\n",
    "    if ((player1hand ==3) and (player2hand == 6)) or ((player1hand ==6) and (player2hand == 3)) :\n",
    "        print(\"scissors tie\")"
   ]
  },
  {
   "cell_type": "code",
   "execution_count": null,
   "metadata": {},
   "outputs": [],
   "source": []
  }
 ]
}